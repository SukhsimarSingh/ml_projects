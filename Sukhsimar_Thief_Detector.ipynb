{
 "cells": [
  {
   "cell_type": "markdown",
   "metadata": {},
   "source": [
    "# Thief Detector\n",
    "## This task tests your Image Processing skills to build a motion detection algorithm that alarms you when you have an unwanted visitor in your home."
   ]
  },
  {
   "cell_type": "markdown",
   "metadata": {},
   "source": [
    "## Steps\n",
    "- 1. Get the live video feed from your webcam\n",
    "- 2. Fix a scene (the place you want to monitor) and store it as a reference background image\n",
    "    - Store the first frame as the reference background frame\n",
    "- 3. For every frame, check if there is any unwanted object inside the scene you are monitoring\n",
    "    - Use **Background Subtraction** concept (**cv2.absdiff( )**)\n",
    "        - Subtract the current frame from the reference background image(frame) to see the changes in the scene\n",
    "        - If there is enormous amount of pixels distrubed in the subtraction result image\n",
    "            - unwanted visitor (place is unsafe --> alarm the authorities)\n",
    "        - If there is no enormous amount of pixels distrubed in the subtraction result image\n",
    "            - no unwanted visitor (place is safe)\n",
    "- 4. Output the text **\"UNSAFE\"** in **red** color on the top right of the frame when there is an intruder in the scene.\n",
    "- 5. Save the live feed\n",
    "- 6. Submit the (.ipynb) file"
   ]
  },
  {
   "cell_type": "markdown",
   "metadata": {},
   "source": [
    "## Get live video feed from webcam [10 points]"
   ]
  },
  {
   "cell_type": "code",
   "execution_count": 2,
   "metadata": {},
   "outputs": [],
   "source": [
    "import cv2\n",
    "import time\n",
    "from datetime import datetime"
   ]
  },
  {
   "cell_type": "code",
   "execution_count": 12,
   "metadata": {},
   "outputs": [],
   "source": [
    "video = cv2.VideoCapture(0)  "
   ]
  },
  {
   "cell_type": "markdown",
   "metadata": {},
   "source": [
    "## Read first frame, convert to Grayscale and store it as reference background image [10 points]"
   ]
  },
  {
   "cell_type": "code",
   "execution_count": 13,
   "metadata": {},
   "outputs": [],
   "source": [
    "initial_state = None  "
   ]
  },
  {
   "cell_type": "code",
   "execution_count": 14,
   "metadata": {},
   "outputs": [],
   "source": [
    "motion_track_list= [ None, None ]"
   ]
  },
  {
   "cell_type": "code",
   "execution_count": 15,
   "metadata": {},
   "outputs": [],
   "source": [
    "motionTime = []"
   ]
  },
  {
   "cell_type": "code",
   "execution_count": 16,
   "metadata": {},
   "outputs": [],
   "source": [
    "check, cur_frame = video.read()  "
   ]
  },
  {
   "cell_type": "code",
   "execution_count": 34,
   "metadata": {},
   "outputs": [],
   "source": [
    "var_motion = 0  "
   ]
  },
  {
   "cell_type": "code",
   "execution_count": 18,
   "metadata": {},
   "outputs": [],
   "source": [
    "gray_image = cv2.cvtColor(cur_frame, cv2.COLOR_BGR2GRAY)  "
   ]
  },
  {
   "cell_type": "code",
   "execution_count": 35,
   "metadata": {},
   "outputs": [],
   "source": [
    "gray_frame = cv2.GaussianBlur(gray_image, (21, 21), 0) "
   ]
  },
  {
   "cell_type": "code",
   "execution_count": 22,
   "metadata": {},
   "outputs": [],
   "source": [
    "if initial_state is None:  \n",
    "    initial_state = gray_frame  "
   ]
  },
  {
   "cell_type": "markdown",
   "metadata": {},
   "source": [
    "## Compute Absolute Difference between Current and First frame [20 points]"
   ]
  },
  {
   "cell_type": "code",
   "execution_count": 26,
   "metadata": {},
   "outputs": [],
   "source": [
    "differ_frame = cv2.absdiff(initial_state, gray_frame) "
   ]
  },
  {
   "cell_type": "markdown",
   "metadata": {},
   "source": [
    "## Apply threshold [5 points]"
   ]
  },
  {
   "cell_type": "code",
   "execution_count": 27,
   "metadata": {},
   "outputs": [],
   "source": [
    "thresh_frame = cv2.threshold(differ_frame, 30, 255, cv2.THRESH_BINARY)[1]  "
   ]
  },
  {
   "cell_type": "code",
   "execution_count": 28,
   "metadata": {},
   "outputs": [],
   "source": [
    "thresh_frame = cv2.dilate(thresh_frame, None, iterations = 2) "
   ]
  },
  {
   "cell_type": "markdown",
   "metadata": {},
   "source": [
    "## Find contours [10 points]"
   ]
  },
  {
   "cell_type": "code",
   "execution_count": 29,
   "metadata": {},
   "outputs": [],
   "source": [
    "cont,_ = cv2.findContours(thresh_frame.copy(),cv2.RETR_EXTERNAL, cv2.CHAIN_APPROX_SIMPLE)  "
   ]
  },
  {
   "cell_type": "markdown",
   "metadata": {},
   "source": [
    "## Check if contourArea is large and draw rectangle around the object, output \"UNSAFE\" text in red color [30 points]"
   ]
  },
  {
   "cell_type": "code",
   "execution_count": 30,
   "metadata": {},
   "outputs": [],
   "source": [
    "for cur in cont:\n",
    "    if cv2.contourArea(cur) < 10000:  \n",
    "        continue  \n",
    "        var_motion = 1  \n",
    "        (cur_x, cur_y,cur_w, cur_h) = cv2.boundingRect(cur)  \n",
    "# To create a rectangle of green color around the moving object  \n",
    "        cv2.rectangle(cur_frame, (cur_x, cur_y), (cur_x + cur_w, cur_y + cur_h), (0, 255, 0), 3) "
   ]
  },
  {
   "cell_type": "markdown",
   "metadata": {},
   "source": [
    "## Display images [10 points]"
   ]
  },
  {
   "cell_type": "code",
   "execution_count": 12,
   "metadata": {},
   "outputs": [],
   "source": [
    "cv2.imshow(\"Gray Frame: \", gray_frame)  \n",
    "cv2.imshow(\"Difference Frame: \", differ_frame)   \n",
    "cv2.imshow(\"Threshold Frame: \", thresh_frame)  \n",
    "cv2.imshow(\"Colour Frame:\", cur_frame)  \n",
    "wait_key = cv2.waitKey(0)  "
   ]
  },
  {
   "cell_type": "markdown",
   "metadata": {},
   "source": [
    "## Release objects [5 points]"
   ]
  },
  {
   "cell_type": "code",
   "execution_count": 10,
   "metadata": {},
   "outputs": [],
   "source": [
    "video = cv2.VideoCapture(0) \n",
    "initial_state = None  \n",
    "motion_track_list= [ None, None ]\n",
    "motionTime = []\n",
    "while True:\n",
    "    check, cur_frame = video.read()  \n",
    "    var_motion = 0  \n",
    "    gray_image = cv2.cvtColor(cur_frame, cv2.COLOR_BGR2GRAY)  \n",
    "    gray_frame = cv2.GaussianBlur(gray_image, (21, 21), 0)  \n",
    "    if initial_state is None:\n",
    "        initial_state = gray_frame \n",
    "        continue\n",
    "    differ_frame = cv2.absdiff(initial_state, gray_frame)  \n",
    "    thresh_frame = cv2.threshold(differ_frame, 30, 255, cv2.THRESH_BINARY)[1]  \n",
    "\n",
    "    thresh_frame = cv2.dilate(thresh_frame, None, iterations = 2)  \n",
    "\n",
    "    cont,_ = cv2.findContours(thresh_frame.copy(),cv2.RETR_EXTERNAL, cv2.CHAIN_APPROX_SIMPLE)  \n",
    "    for cur in cont:\n",
    "        if cv2.contourArea(cur) < 10000:\n",
    "            continue  \n",
    "        var_motion = 1  \n",
    "        (cur_x, cur_y,cur_w, cur_h) = cv2.boundingRect(cur)  \n",
    "        cv2.rectangle(cur_frame, (cur_x, cur_y), (cur_x + cur_w, cur_y + cur_h), (255, 255, 255), 3)\n",
    "        cv2.putText(cur_frame, text ='UNSAFE', org=(40,50), fontFace =cv2.FONT_HERSHEY_TRIPLEX, fontScale =1, color=(255,255,255), thickness =1)\n",
    "    motion_track_list.append(var_motion)  \n",
    "\n",
    "    motion_track_list = motion_track_list[-2:]  \n",
    "\n",
    "    if motion_track_list[-1] == 1 and motion_track_list[-2] == 0:\n",
    "        motionTime.append(datetime.now())  \n",
    "\n",
    "    if motion_track_list[-1] == 0 and motion_track_list[-2] == 1:\n",
    "        motionTime.append(datetime.now())  \n",
    "    cv2.imshow(\"Gray Frame: \", gray_frame)  \n",
    "\n",
    "    cv2.imshow(\"Difference Frame: \", differ_frame)  \n",
    "    \n",
    "    cv2.imshow(\"Threshold Frame: \", thresh_frame)  \n",
    "    \n",
    "    cv2.imshow(\"Colour Frame:\", cur_frame)  \n",
    "    wait_key = cv2.waitKey(1)  \n",
    "\n",
    "    if wait_key == ord('q'):  \n",
    "        if var_motion == 1:  \n",
    "            motionTime.append(datetime.now())  \n",
    "        break \n",
    "video.release()  \n",
    "cv2.destroyAllWindows()"
   ]
  },
  {
   "cell_type": "code",
   "execution_count": null,
   "metadata": {},
   "outputs": [],
   "source": []
  },
  {
   "cell_type": "code",
   "execution_count": null,
   "metadata": {},
   "outputs": [],
   "source": []
  }
 ],
 "metadata": {
  "kernelspec": {
   "display_name": "Python 3 (ipykernel)",
   "language": "python",
   "name": "python3"
  },
  "language_info": {
   "codemirror_mode": {
    "name": "ipython",
    "version": 3
   },
   "file_extension": ".py",
   "mimetype": "text/x-python",
   "name": "python",
   "nbconvert_exporter": "python",
   "pygments_lexer": "ipython3",
   "version": "3.9.7"
  }
 },
 "nbformat": 4,
 "nbformat_minor": 4
}
